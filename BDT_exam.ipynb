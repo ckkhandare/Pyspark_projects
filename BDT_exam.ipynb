{
 "cells": [
  {
   "cell_type": "code",
   "execution_count": 5,
   "metadata": {},
   "outputs": [],
   "source": [
    "from pyspark import SparkContext, SparkConf, SQLContext\n",
    "from pyspark.sql.functions import col, when, lit"
   ]
  },
  {
   "cell_type": "code",
   "execution_count": 6,
   "metadata": {},
   "outputs": [
    {
     "name": "stdout",
     "output_type": "stream",
     "text": [
      "+-----------+-----------+----------------+---------------+----------+\n",
      "|DeadCounter|CaseCounter|RecoveredCounter|CriticalCounter|      Date|\n",
      "+-----------+-----------+----------------+---------------+----------+\n",
      "|          1|         72|             188|             -9|05-09-2021|\n",
      "|          1|        103|             187|             -5|04-09-2021|\n",
      "|          1|         95|             113|            -11|03-09-2021|\n",
      "|          1|        111|             150|             -9|02-09-2021|\n",
      "|          1|        101|             252|             -6|01-09-2021|\n",
      "|          1|        184|             297|              1|31-08-2021|\n",
      "|          1|        124|             213|              2|31-08-2021|\n",
      "|          1|        189|             341|              0|29-08-2021|\n",
      "|          1|        186|             365|            -10|28-08-2021|\n",
      "|          1|        168|             432|            -10|27-08-2021|\n",
      "|          2|        212|             488|             -3|26-08-2021|\n",
      "|          3|        197|             512|              0|25-08-2021|\n",
      "|          2|        166|             583|            -20|24-08-2021|\n",
      "|          3|        189|             520|            -21|23-08-2021|\n",
      "|          1|        167|             571|             -5|22-08-2021|\n",
      "|          2|        200|             598|            -15|21-08-2021|\n",
      "|          2|        226|             610|             -9|20-08-2021|\n",
      "|          2|        276|             503|              0|19-08-2021|\n",
      "|          2|        237|             642|             -5|18-08-2021|\n",
      "|          2|        256|             526|            -11|17-08-2021|\n",
      "+-----------+-----------+----------------+---------------+----------+\n",
      "only showing top 20 rows\n",
      "\n"
     ]
    }
   ],
   "source": [
    "df = sqlContext.read.option('header', True).option('delimiter', ',').csv(\n",
    "    'hdfs://localhost:9000/user/ckkhandare/BDT_exam/covid-19_dataset.csv')\n",
    "df.show()"
   ]
  },
  {
   "cell_type": "code",
   "execution_count": 20,
   "metadata": {},
   "outputs": [
    {
     "name": "stdout",
     "output_type": "stream",
     "text": [
      "+----------+\n",
      "|      Date|\n",
      "+----------+\n",
      "|08-02-2021|\n",
      "+----------+\n",
      "\n"
     ]
    }
   ],
   "source": [
    "df.createGlobalTempView('max_cases1')\n",
    "Datemax_cases = sqlContext.sql('select Date from global_temp.max_cases1 where CaseCounter= (select max(CaseCounter) from global_temp.max_cases1)')\n",
    "Datemax_cases.show()\n",
    "# select newdate from covid_data where CaseCounter= (select max(CaseCounter) from covid_data);"
   ]
  },
  {
   "cell_type": "code",
   "execution_count": 22,
   "metadata": {},
   "outputs": [
    {
     "name": "stdout",
     "output_type": "stream",
     "text": [
      "+-----------+\n",
      "|CaseCounter|\n",
      "+-----------+\n",
      "|        941|\n",
      "|       1705|\n",
      "|       1512|\n",
      "|       1390|\n",
      "|       1505|\n",
      "|        698|\n",
      "|        626|\n",
      "+-----------+\n",
      "\n"
     ]
    }
   ],
   "source": [
    "df.createGlobalTempView('max_critical')\n",
    "max_criti = sqlContext.sql('select CaseCounter from global_temp.max_critical where CriticalCounter= (select max(CriticalCounter) from global_temp.max_critical)')\n",
    "max_criti.show()"
   ]
  },
  {
   "cell_type": "code",
   "execution_count": 23,
   "metadata": {},
   "outputs": [
    {
     "name": "stdout",
     "output_type": "stream",
     "text": [
      "+----------+\n",
      "|      Date|\n",
      "+----------+\n",
      "|21-05-2021|\n",
      "+----------+\n",
      "\n"
     ]
    }
   ],
   "source": [
    "df.createGlobalTempView('max_rec1')\n",
    "max_recovered = sqlContext.sql('select Date from global_temp.max_rec1 where RecoveredCounter= (select max(RecoveredCounter) from global_temp.max_rec1)')\n",
    "max_recovered.show()"
   ]
  },
  {
   "cell_type": "code",
   "execution_count": 24,
   "metadata": {},
   "outputs": [
    {
     "name": "stdout",
     "output_type": "stream",
     "text": [
      "+---------------+---------------+\n",
      "|Max_DeadCounter|Min_DeadCounter|\n",
      "+---------------+---------------+\n",
      "|              9|              0|\n",
      "+---------------+---------------+\n",
      "\n"
     ]
    }
   ],
   "source": [
    "df.createGlobalTempView('max_min_death')\n",
    "max_min_death = sqlContext.sql('select max(DeadCounter) as Max_DeadCounter ,min(DeadCounter) as Min_DeadCounter from global_temp.max_min_death')\n",
    "max_min_death.show()"
   ]
  },
  {
   "cell_type": "code",
   "execution_count": null,
   "metadata": {},
   "outputs": [],
   "source": [
    "df.createGlobalTempView('date_week')\n",
    "date_week = sqlContext.sql('')\n",
    "date_week.show()"
   ]
  }
 ],
 "metadata": {
  "kernelspec": {
   "display_name": "Python 3",
   "language": "python",
   "name": "python3"
  },
  "language_info": {
   "codemirror_mode": {
    "name": "ipython",
    "version": 3
   },
   "file_extension": ".py",
   "mimetype": "text/x-python",
   "name": "python",
   "nbconvert_exporter": "python",
   "pygments_lexer": "ipython3",
   "version": "3.8.10"
  }
 },
 "nbformat": 4,
 "nbformat_minor": 4
}
