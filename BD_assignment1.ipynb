{
 "cells": [
  {
   "cell_type": "code",
   "execution_count": 1,
   "metadata": {},
   "outputs": [],
   "source": [
    "from pyspark.ml import Pipeline\n",
    "from pyspark import SparkContext, SparkConf, SQLContext\n",
    "from pyspark.sql.functions import col, when, lit\n",
    "from pyspark.ml.feature import VectorAssembler\n",
    "from pyspark.ml.classification import RandomForestClassifier\n"
   ]
  },
  {
   "cell_type": "code",
   "execution_count": 2,
   "metadata": {},
   "outputs": [
    {
     "data": {
      "text/html": [
       "\n",
       "        <div>\n",
       "            <p><b>SparkContext</b></p>\n",
       "\n",
       "            <p><a href=\"http://192.168.0.100:4040\">Spark UI</a></p>\n",
       "\n",
       "            <dl>\n",
       "              <dt>Version</dt>\n",
       "                <dd><code>v3.1.2</code></dd>\n",
       "              <dt>Master</dt>\n",
       "                <dd><code>local[*]</code></dd>\n",
       "              <dt>AppName</dt>\n",
       "                <dd><code>PySparkShell</code></dd>\n",
       "            </dl>\n",
       "        </div>\n",
       "        "
      ],
      "text/plain": [
       "<SparkContext master=local[*] appName=PySparkShell>"
      ]
     },
     "execution_count": 2,
     "metadata": {},
     "output_type": "execute_result"
    }
   ],
   "source": [
    "sc"
   ]
  },
  {
   "cell_type": "code",
   "execution_count": 3,
   "metadata": {},
   "outputs": [],
   "source": [
    "Titanic_train = sqlContext.read.option('header', True) \\\n",
    "    .option('delimiter', ',') \\\n",
    "    .option('inferSchema', True) \\\n",
    "    .csv('file:///home/ckkhandare/spark-3.1.2-bin-hadoop3.2/datasets/train.csv')\\\n",
    "    .withColumn('Sex', when(col('Sex') == 'male', 1.0).otherwise(0.0))"
   ]
  },
  {
   "cell_type": "code",
   "execution_count": 4,
   "metadata": {},
   "outputs": [],
   "source": [
    "Titanic_Test = sqlContext.read.option('header', True) \\\n",
    "    .option('delimiter', ',') \\\n",
    "    .option('inferSchema', True) \\\n",
    "    .csv('file:///home/ckkhandare/spark-3.1.2-bin-hadoop3.2/datasets/test.csv')\\\n",
    "    .withColumn('Sex', when(col('Sex') == 'male', 1.0).otherwise(0.0))"
   ]
  },
  {
   "cell_type": "code",
   "execution_count": 5,
   "metadata": {},
   "outputs": [
    {
     "name": "stdout",
     "output_type": "stream",
     "text": [
      "root\n",
      " |-- PassengerId: integer (nullable = true)\n",
      " |-- Survived: integer (nullable = true)\n",
      " |-- Pclass: integer (nullable = true)\n",
      " |-- Name: string (nullable = true)\n",
      " |-- Sex: double (nullable = false)\n",
      " |-- Age: double (nullable = true)\n",
      " |-- SibSp: integer (nullable = true)\n",
      " |-- Parch: integer (nullable = true)\n",
      " |-- Ticket: string (nullable = true)\n",
      " |-- Fare: double (nullable = true)\n",
      " |-- Cabin: string (nullable = true)\n",
      " |-- Embarked: string (nullable = true)\n",
      "\n"
     ]
    }
   ],
   "source": [
    "Titanic_train.printSchema()"
   ]
  },
  {
   "cell_type": "code",
   "execution_count": 6,
   "metadata": {},
   "outputs": [
    {
     "name": "stdout",
     "output_type": "stream",
     "text": [
      "+-----------+--------+------+--------------------+---+----+-----+-----+----------------+-------+-----+--------+\n",
      "|PassengerId|Survived|Pclass|                Name|Sex| Age|SibSp|Parch|          Ticket|   Fare|Cabin|Embarked|\n",
      "+-----------+--------+------+--------------------+---+----+-----+-----+----------------+-------+-----+--------+\n",
      "|          1|       0|     3|Braund, Mr. Owen ...|1.0|22.0|    1|    0|       A/5 21171|   7.25| null|       S|\n",
      "|          2|       1|     1|Cumings, Mrs. Joh...|0.0|38.0|    1|    0|        PC 17599|71.2833|  C85|       C|\n",
      "|          3|       1|     3|Heikkinen, Miss. ...|0.0|26.0|    0|    0|STON/O2. 3101282|  7.925| null|       S|\n",
      "|          4|       1|     1|Futrelle, Mrs. Ja...|0.0|35.0|    1|    0|          113803|   53.1| C123|       S|\n",
      "|          5|       0|     3|Allen, Mr. Willia...|1.0|35.0|    0|    0|          373450|   8.05| null|       S|\n",
      "|          6|       0|     3|    Moran, Mr. James|1.0|null|    0|    0|          330877| 8.4583| null|       Q|\n",
      "|          7|       0|     1|McCarthy, Mr. Tim...|1.0|54.0|    0|    0|           17463|51.8625|  E46|       S|\n",
      "|          8|       0|     3|Palsson, Master. ...|1.0| 2.0|    3|    1|          349909| 21.075| null|       S|\n",
      "|          9|       1|     3|Johnson, Mrs. Osc...|0.0|27.0|    0|    2|          347742|11.1333| null|       S|\n",
      "|         10|       1|     2|Nasser, Mrs. Nich...|0.0|14.0|    1|    0|          237736|30.0708| null|       C|\n",
      "|         11|       1|     3|Sandstrom, Miss. ...|0.0| 4.0|    1|    1|         PP 9549|   16.7|   G6|       S|\n",
      "|         12|       1|     1|Bonnell, Miss. El...|0.0|58.0|    0|    0|          113783|  26.55| C103|       S|\n",
      "|         13|       0|     3|Saundercock, Mr. ...|1.0|20.0|    0|    0|       A/5. 2151|   8.05| null|       S|\n",
      "|         14|       0|     3|Andersson, Mr. An...|1.0|39.0|    1|    5|          347082| 31.275| null|       S|\n",
      "|         15|       0|     3|Vestrom, Miss. Hu...|0.0|14.0|    0|    0|          350406| 7.8542| null|       S|\n",
      "|         16|       1|     2|Hewlett, Mrs. (Ma...|0.0|55.0|    0|    0|          248706|   16.0| null|       S|\n",
      "|         17|       0|     3|Rice, Master. Eugene|1.0| 2.0|    4|    1|          382652| 29.125| null|       Q|\n",
      "|         18|       1|     2|Williams, Mr. Cha...|1.0|null|    0|    0|          244373|   13.0| null|       S|\n",
      "|         19|       0|     3|Vander Planke, Mr...|0.0|31.0|    1|    0|          345763|   18.0| null|       S|\n",
      "|         20|       1|     3|Masselmani, Mrs. ...|0.0|null|    0|    0|            2649|  7.225| null|       C|\n",
      "+-----------+--------+------+--------------------+---+----+-----+-----+----------------+-------+-----+--------+\n",
      "only showing top 20 rows\n",
      "\n"
     ]
    }
   ],
   "source": [
    "Titanic_train.show()"
   ]
  },
  {
   "cell_type": "code",
   "execution_count": 36,
   "metadata": {},
   "outputs": [],
   "source": [
    "Titanic_train = Titanic_train.drop('Cabin').drop('Ticket').drop('Name')"
   ]
  },
  {
   "cell_type": "code",
   "execution_count": 37,
   "metadata": {},
   "outputs": [],
   "source": [
    "Titanic_train = Titanic_train.drop('PassengerId')"
   ]
  },
  {
   "cell_type": "code",
   "execution_count": 38,
   "metadata": {},
   "outputs": [],
   "source": [
    "Titanic_train = Titanic_train.drop('Embarked')"
   ]
  },
  {
   "cell_type": "code",
   "execution_count": 39,
   "metadata": {},
   "outputs": [
    {
     "name": "stdout",
     "output_type": "stream",
     "text": [
      "root\n",
      " |-- Survived: integer (nullable = true)\n",
      " |-- Pclass: integer (nullable = true)\n",
      " |-- Sex: double (nullable = false)\n",
      " |-- Age: double (nullable = true)\n",
      " |-- SibSp: integer (nullable = true)\n",
      " |-- Parch: integer (nullable = true)\n",
      " |-- Fare: double (nullable = true)\n",
      "\n"
     ]
    }
   ],
   "source": [
    "Titanic_train.printSchema()"
   ]
  },
  {
   "cell_type": "code",
   "execution_count": 40,
   "metadata": {},
   "outputs": [],
   "source": [
    "Titanic_train = Titanic_train.na.drop()"
   ]
  },
  {
   "cell_type": "code",
   "execution_count": 41,
   "metadata": {},
   "outputs": [
    {
     "data": {
      "text/plain": [
       "[]"
      ]
     },
     "execution_count": 41,
     "metadata": {},
     "output_type": "execute_result"
    }
   ],
   "source": [
    "Titanic_train.filter(Titanic_train.Age.isNull()).collect()"
   ]
  },
  {
   "cell_type": "code",
   "execution_count": 31,
   "metadata": {},
   "outputs": [
    {
     "data": {
      "text/plain": [
       "[]"
      ]
     },
     "execution_count": 31,
     "metadata": {},
     "output_type": "execute_result"
    }
   ],
   "source": [
    "Titanic_train.filter(Titanic_train.Parch.isNull()).collect()"
   ]
  },
  {
   "cell_type": "code",
   "execution_count": 43,
   "metadata": {},
   "outputs": [
    {
     "name": "stdout",
     "output_type": "stream",
     "text": [
      "+--------+------+---+----+-----+-----+-------+\n",
      "|Survived|Pclass|Sex| Age|SibSp|Parch|   Fare|\n",
      "+--------+------+---+----+-----+-----+-------+\n",
      "|       0|     3|1.0|22.0|    1|    0|   7.25|\n",
      "|       1|     1|0.0|38.0|    1|    0|71.2833|\n",
      "|       1|     3|0.0|26.0|    0|    0|  7.925|\n",
      "|       1|     1|0.0|35.0|    1|    0|   53.1|\n",
      "|       0|     3|1.0|35.0|    0|    0|   8.05|\n",
      "|       0|     1|1.0|54.0|    0|    0|51.8625|\n",
      "|       0|     3|1.0| 2.0|    3|    1| 21.075|\n",
      "|       1|     3|0.0|27.0|    0|    2|11.1333|\n",
      "|       1|     2|0.0|14.0|    1|    0|30.0708|\n",
      "|       1|     3|0.0| 4.0|    1|    1|   16.7|\n",
      "|       1|     1|0.0|58.0|    0|    0|  26.55|\n",
      "|       0|     3|1.0|20.0|    0|    0|   8.05|\n",
      "|       0|     3|1.0|39.0|    1|    5| 31.275|\n",
      "|       0|     3|0.0|14.0|    0|    0| 7.8542|\n",
      "|       1|     2|0.0|55.0|    0|    0|   16.0|\n",
      "|       0|     3|1.0| 2.0|    4|    1| 29.125|\n",
      "|       0|     3|0.0|31.0|    1|    0|   18.0|\n",
      "|       0|     2|1.0|35.0|    0|    0|   26.0|\n",
      "|       1|     2|1.0|34.0|    0|    0|   13.0|\n",
      "|       1|     3|0.0|15.0|    0|    0| 8.0292|\n",
      "+--------+------+---+----+-----+-----+-------+\n",
      "only showing top 20 rows\n",
      "\n"
     ]
    }
   ],
   "source": [
    "Titanic_train.show()"
   ]
  },
  {
   "cell_type": "code",
   "execution_count": 59,
   "metadata": {},
   "outputs": [
    {
     "name": "stdout",
     "output_type": "stream",
     "text": [
      "root\n",
      " |-- Survived: integer (nullable = true)\n",
      " |-- Pclass: integer (nullable = true)\n",
      " |-- Sex: double (nullable = false)\n",
      " |-- Age: double (nullable = true)\n",
      " |-- SibSp: integer (nullable = true)\n",
      " |-- Parch: integer (nullable = true)\n",
      " |-- Fare: double (nullable = true)\n",
      " |-- features: vector (nullable = true)\n",
      "\n"
     ]
    }
   ],
   "source": [
    "assembler = VectorAssembler(inputCols=['Pclass', 'Sex', 'Age', 'SibSp', 'Parch','Fare'], outputCol='features')\\\n",
    "    .setHandleInvalid('skip')\n",
    "vectorDF = assembler.transform(Titanic_train)\n",
    "vectorDF.printSchema()"
   ]
  },
  {
   "cell_type": "code",
   "execution_count": 64,
   "metadata": {},
   "outputs": [],
   "source": [
    "rf = RandomForestClassifier(labelCol=\"Survived\", featuresCol=\"features\", numTrees=10)"
   ]
  },
  {
   "cell_type": "code",
   "execution_count": 65,
   "metadata": {},
   "outputs": [],
   "source": [
    "pipeline = Pipeline(stages=[assembler, rf])\n",
    "pipelineModel = pipeline.fit(Titanic_train)"
   ]
  },
  {
   "cell_type": "code",
   "execution_count": 66,
   "metadata": {},
   "outputs": [
    {
     "name": "stdout",
     "output_type": "stream",
     "text": [
      "+-----------+---+----+-----+-----+----------------+-------+-----+--------+--------+\n",
      "|PassengerId|Sex| Age|SibSp|Parch|          Ticket|   Fare|Cabin|Embarked|Survived|\n",
      "+-----------+---+----+-----+-----+----------------+-------+-----+--------+--------+\n",
      "|        892|1.0|34.5|    0|    0|          330911| 7.8292| null|       Q|       1|\n",
      "|        893|0.0|47.0|    1|    0|          363272|    7.0| null|       S|       1|\n",
      "|        894|1.0|62.0|    0|    0|          240276| 9.6875| null|       Q|       1|\n",
      "|        895|1.0|27.0|    0|    0|          315154| 8.6625| null|       S|       1|\n",
      "|        896|0.0|22.0|    1|    1|         3101298|12.2875| null|       S|       1|\n",
      "|        897|1.0|14.0|    0|    0|            7538|  9.225| null|       S|       1|\n",
      "|        898|0.0|30.0|    0|    0|          330972| 7.6292| null|       Q|       1|\n",
      "|        899|1.0|26.0|    1|    1|          248738|   29.0| null|       S|       1|\n",
      "|        900|0.0|18.0|    0|    0|            2657| 7.2292| null|       C|       1|\n",
      "|        901|1.0|21.0|    2|    0|       A/4 48871|  24.15| null|       S|       1|\n",
      "|        902|1.0|null|    0|    0|          349220| 7.8958| null|       S|       1|\n",
      "|        903|1.0|46.0|    0|    0|             694|   26.0| null|       S|       1|\n",
      "|        904|0.0|23.0|    1|    0|           21228|82.2667|  B45|       S|       1|\n",
      "|        905|1.0|63.0|    1|    0|           24065|   26.0| null|       S|       1|\n",
      "|        906|0.0|47.0|    1|    0|     W.E.P. 5734| 61.175|  E31|       S|       1|\n",
      "|        907|0.0|24.0|    1|    0|   SC/PARIS 2167|27.7208| null|       C|       1|\n",
      "|        908|1.0|35.0|    0|    0|          233734|  12.35| null|       Q|       1|\n",
      "|        909|1.0|21.0|    0|    0|            2692|  7.225| null|       C|       1|\n",
      "|        910|0.0|27.0|    1|    0|STON/O2. 3101270|  7.925| null|       S|       1|\n",
      "|        911|0.0|45.0|    0|    0|            2696|  7.225| null|       C|       1|\n",
      "+-----------+---+----+-----+-----+----------------+-------+-----+--------+--------+\n",
      "only showing top 20 rows\n",
      "\n"
     ]
    }
   ],
   "source": [
    "Titanic_Test.show()"
   ]
  },
  {
   "cell_type": "code",
   "execution_count": 81,
   "metadata": {},
   "outputs": [],
   "source": [
    "Titanic_Test = Titanic_Test.drop('Cabin').drop('Ticket').drop('Name').drop('Embarked')"
   ]
  },
  {
   "cell_type": "code",
   "execution_count": 82,
   "metadata": {},
   "outputs": [
    {
     "name": "stdout",
     "output_type": "stream",
     "text": [
      "+-----------+------+---+----+-----+-----+-------+\n",
      "|PassengerId|Pclass|Sex| Age|SibSp|Parch|   Fare|\n",
      "+-----------+------+---+----+-----+-----+-------+\n",
      "|        892|     3|1.0|34.5|    0|    0| 7.8292|\n",
      "|        893|     3|0.0|47.0|    1|    0|    7.0|\n",
      "|        894|     2|1.0|62.0|    0|    0| 9.6875|\n",
      "|        895|     3|1.0|27.0|    0|    0| 8.6625|\n",
      "|        896|     3|0.0|22.0|    1|    1|12.2875|\n",
      "|        897|     3|1.0|14.0|    0|    0|  9.225|\n",
      "|        898|     3|0.0|30.0|    0|    0| 7.6292|\n",
      "|        899|     2|1.0|26.0|    1|    1|   29.0|\n",
      "|        900|     3|0.0|18.0|    0|    0| 7.2292|\n",
      "|        901|     3|1.0|21.0|    2|    0|  24.15|\n",
      "|        902|     3|1.0|null|    0|    0| 7.8958|\n",
      "|        903|     1|1.0|46.0|    0|    0|   26.0|\n",
      "|        904|     1|0.0|23.0|    1|    0|82.2667|\n",
      "|        905|     2|1.0|63.0|    1|    0|   26.0|\n",
      "|        906|     1|0.0|47.0|    1|    0| 61.175|\n",
      "|        907|     2|0.0|24.0|    1|    0|27.7208|\n",
      "|        908|     2|1.0|35.0|    0|    0|  12.35|\n",
      "|        909|     3|1.0|21.0|    0|    0|  7.225|\n",
      "|        910|     3|0.0|27.0|    1|    0|  7.925|\n",
      "|        911|     3|0.0|45.0|    0|    0|  7.225|\n",
      "+-----------+------+---+----+-----+-----+-------+\n",
      "only showing top 20 rows\n",
      "\n"
     ]
    }
   ],
   "source": [
    "Titanic_Test.show()"
   ]
  },
  {
   "cell_type": "code",
   "execution_count": 83,
   "metadata": {},
   "outputs": [],
   "source": [
    "pipelinePrediction = pipelineModel.transform(Titanic_Test)"
   ]
  },
  {
   "cell_type": "code",
   "execution_count": 84,
   "metadata": {},
   "outputs": [
    {
     "data": {
      "text/plain": [
       "DataFrame[summary: string, PassengerId: string, Pclass: string, Sex: string, Age: string, SibSp: string, Parch: string, Fare: string, prediction: string]"
      ]
     },
     "execution_count": 84,
     "metadata": {},
     "output_type": "execute_result"
    }
   ],
   "source": [
    "pipelinePrediction.summary()"
   ]
  },
  {
   "cell_type": "code",
   "execution_count": 85,
   "metadata": {},
   "outputs": [
    {
     "name": "stdout",
     "output_type": "stream",
     "text": [
      "root\n",
      " |-- PassengerId: integer (nullable = true)\n",
      " |-- Pclass: integer (nullable = true)\n",
      " |-- Sex: double (nullable = false)\n",
      " |-- Age: double (nullable = true)\n",
      " |-- SibSp: integer (nullable = true)\n",
      " |-- Parch: integer (nullable = true)\n",
      " |-- Fare: double (nullable = true)\n",
      " |-- features: vector (nullable = true)\n",
      " |-- rawPrediction: vector (nullable = true)\n",
      " |-- probability: vector (nullable = true)\n",
      " |-- prediction: double (nullable = false)\n",
      "\n"
     ]
    }
   ],
   "source": [
    "pipelinePrediction.printSchema()"
   ]
  },
  {
   "cell_type": "code",
   "execution_count": 87,
   "metadata": {},
   "outputs": [
    {
     "name": "stdout",
     "output_type": "stream",
     "text": [
      "+-----------+----------+--------------------+\n",
      "|PassengerId|prediction|            features|\n",
      "+-----------+----------+--------------------+\n",
      "|        892|       0.0|[3.0,1.0,34.5,0.0...|\n",
      "|        893|       0.0|[3.0,0.0,47.0,1.0...|\n",
      "|        894|       0.0|[2.0,1.0,62.0,0.0...|\n",
      "|        895|       0.0|[3.0,1.0,27.0,0.0...|\n",
      "|        896|       1.0|[3.0,0.0,22.0,1.0...|\n",
      "|        897|       0.0|[3.0,1.0,14.0,0.0...|\n",
      "|        898|       1.0|[3.0,0.0,30.0,0.0...|\n",
      "|        899|       0.0|[2.0,1.0,26.0,1.0...|\n",
      "|        900|       1.0|[3.0,0.0,18.0,0.0...|\n",
      "|        901|       0.0|[3.0,1.0,21.0,2.0...|\n",
      "|        903|       0.0|[1.0,1.0,46.0,0.0...|\n",
      "|        904|       1.0|[1.0,0.0,23.0,1.0...|\n",
      "|        905|       0.0|[2.0,1.0,63.0,1.0...|\n",
      "|        906|       1.0|[1.0,0.0,47.0,1.0...|\n",
      "|        907|       1.0|[2.0,0.0,24.0,1.0...|\n",
      "|        908|       0.0|[2.0,1.0,35.0,0.0...|\n",
      "|        909|       0.0|[3.0,1.0,21.0,0.0...|\n",
      "|        910|       1.0|[3.0,0.0,27.0,1.0...|\n",
      "|        911|       0.0|[3.0,0.0,45.0,0.0...|\n",
      "|        912|       0.0|[1.0,1.0,55.0,1.0...|\n",
      "+-----------+----------+--------------------+\n",
      "only showing top 20 rows\n",
      "\n"
     ]
    }
   ],
   "source": [
    "pipelinePrediction.select('PassengerId','prediction','features').show()"
   ]
  },
  {
   "cell_type": "code",
   "execution_count": null,
   "metadata": {},
   "outputs": [],
   "source": []
  }
 ],
 "metadata": {
  "kernelspec": {
   "display_name": "Python 3",
   "language": "python",
   "name": "python3"
  },
  "language_info": {
   "codemirror_mode": {
    "name": "ipython",
    "version": 3
   },
   "file_extension": ".py",
   "mimetype": "text/x-python",
   "name": "python",
   "nbconvert_exporter": "python",
   "pygments_lexer": "ipython3",
   "version": "3.8.10"
  }
 },
 "nbformat": 4,
 "nbformat_minor": 4
}
