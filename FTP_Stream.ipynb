{
 "cells": [
  {
   "cell_type": "code",
   "execution_count": 1,
   "metadata": {},
   "outputs": [],
   "source": [
    "from pyspark import SparkContext, SparkConf, SQLContext\n",
    "from pyspark.sql import SparkSession\n",
    "from pyspark.sql.functions import col, when, split, explode, window, count\n",
    "from pyspark.sql.types import StructType, StructField, StringType, IntegerType"
   ]
  },
  {
   "cell_type": "code",
   "execution_count": 9,
   "metadata": {},
   "outputs": [
    {
     "name": "stdout",
     "output_type": "stream",
     "text": [
      "PySpark_Streaming Operations\n"
     ]
    }
   ],
   "source": [
    "master = 'local'\n",
    "appName = 'PySpark_Streaming Operations'\n",
    "\n",
    "config = SparkConf().setAppName(appName).setMaster(master)\n",
    "sc = SparkContext(conf=config)\n",
    "# You will need to create the sqlContext for SparkSQL\n",
    "sqlContext = SQLContext(sc)\n",
    "# You will need to create the SparkSession for streaming\n",
    "ss = SparkSession(sc)\n",
    "\n",
    "if ss:\n",
    "    print(sc.appName)\n",
    "else:\n",
    "    print('Could not initialise pyspark session')"
   ]
  },
  {
   "cell_type": "code",
   "execution_count": 10,
   "metadata": {},
   "outputs": [
    {
     "name": "stdout",
     "output_type": "stream",
     "text": [
      "PySpark_Streaming Operations\n"
     ]
    }
   ],
   "source": [
    "ss = SparkSession(sc)\n",
    "if ss:\n",
    "    print(sc.appName)\n",
    "else:\n",
    "    print('Could not initialise pyspark session')"
   ]
  },
  {
   "cell_type": "code",
   "execution_count": null,
   "metadata": {},
   "outputs": [],
   "source": [
    "trainData = ss.readStream.format('socket') \\\n",
    "    .option('host', 'localhost') \\\n",
    "    .option('port', 9876) \\\n",
    "    .load()\n",
    "trainData.printSchema()"
   ]
  },
  {
   "cell_type": "code",
   "execution_count": null,
   "metadata": {},
   "outputs": [],
   "source": [
    "trainSchema = StructType([StructField('TrainNo', StringType(), True),\n",
    "                          StructField('TrainIn', IntegerType(), True),\n",
    "                          StructField('TrainOut', IntegerType(), True),\n",
    "                          StructField('Speed', IntegerType(), True),\n",
    "                          StructField('DirIn', StringType(), True),\n",
    "                          StructField('DirOut', StringType(), True),\n",
    "                          StructField('Duration', StringType(), True)])"
   ]
  },
  {
   "cell_type": "code",
   "execution_count": null,
   "metadata": {},
   "outputs": [],
   "source": [
    "trainData = ss.readStream.schema(trainSchema) \\\n",
    "    .option('header', False) \\\n",
    "    .option('delimiter', '|') \\\n",
    "    .csv('/tmp/streamingLocation')"
   ]
  },
  {
   "cell_type": "code",
   "execution_count": null,
   "metadata": {},
   "outputs": [],
   "source": []
  },
  {
   "cell_type": "code",
   "execution_count": null,
   "metadata": {},
   "outputs": [],
   "source": []
  },
  {
   "cell_type": "code",
   "execution_count": 8,
   "metadata": {},
   "outputs": [],
   "source": [
    "sc.stop()"
   ]
  },
  {
   "cell_type": "code",
   "execution_count": null,
   "metadata": {},
   "outputs": [],
   "source": []
  },
  {
   "cell_type": "code",
   "execution_count": null,
   "metadata": {},
   "outputs": [],
   "source": []
  },
  {
   "cell_type": "code",
   "execution_count": null,
   "metadata": {},
   "outputs": [],
   "source": []
  },
  {
   "cell_type": "code",
   "execution_count": null,
   "metadata": {},
   "outputs": [],
   "source": []
  }
 ],
 "metadata": {
  "kernelspec": {
   "display_name": "Python 3",
   "language": "python",
   "name": "python3"
  },
  "language_info": {
   "codemirror_mode": {
    "name": "ipython",
    "version": 3
   },
   "file_extension": ".py",
   "mimetype": "text/x-python",
   "name": "python",
   "nbconvert_exporter": "python",
   "pygments_lexer": "ipython3",
   "version": "3.8.10"
  }
 },
 "nbformat": 4,
 "nbformat_minor": 4
}
