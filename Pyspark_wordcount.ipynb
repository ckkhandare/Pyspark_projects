{
 "cells": [
  {
   "cell_type": "code",
   "execution_count": 1,
   "metadata": {},
   "outputs": [],
   "source": [
    "from pyspark import SparkContext, SparkConf, SQLContext\n",
    "from pyspark.sql import SparkSession"
   ]
  },
  {
   "cell_type": "code",
   "execution_count": 2,
   "metadata": {
    "scrolled": true
   },
   "outputs": [],
   "source": [
    "master = 'local'\n",
    "appName = 'PySpark_Streaming Operations'\n",
    "\n",
    "config = SparkConf().setAppName(appName).setMaster(master)\n",
    "sc = SparkContext(conf=config)\n",
    "# You will need to create the sqlContext for SparkSQL\n",
    "sqlContext = SQLContext(sc)\n",
    "# You will need to create the SparkSession for streaming\n",
    "ss = SparkSession(sc)\n",
    "\n",
    "if ss:\n",
    "    print(sc.appName)\n",
    "else:\n",
    "    print('Could not initialise pyspark session')"
   ]
  },
  {
   "cell_type": "code",
   "execution_count": 3,
   "metadata": {},
   "outputs": [],
   "source": [
    "text_file = sc.textFile(\"file:///home/ckkhandare/hadoop-3.3.1/README.txt\")\n",
    "counts = text_file.flatMap(lambda line: line.split(\" \")) \\\n",
    "                            .map(lambda word: (word, 1)) \\\n",
    "                           .reduceByKey(lambda x, y: x + y)"
   ]
  },
  {
   "cell_type": "code",
   "execution_count": 4,
   "metadata": {},
   "outputs": [
    {
     "name": "stdout",
     "output_type": "stream",
     "text": [
      "latest: 1\n",
      "Hadoop,: 1\n",
      "visit: 1\n",
      "website: 1\n",
      "at:: 2\n",
      ": 9\n",
      "http://hadoop.apache.org/: 1\n",
      "For: 1\n",
      "the: 1\n",
      "information: 1\n",
      "about: 1\n",
      "please: 1\n",
      "our: 2\n",
      "and: 1\n",
      "wiki,: 1\n",
      "https://cwiki.apache.org/confluence/display/HADOOP/: 1\n"
     ]
    }
   ],
   "source": [
    "output = counts.collect()\n",
    "for (word, count) in output:\n",
    "    print(\"%s: %i\" % (word, count))"
   ]
  },
  {
   "cell_type": "code",
   "execution_count": null,
   "metadata": {},
   "outputs": [],
   "source": []
  },
  {
   "cell_type": "code",
   "execution_count": null,
   "metadata": {},
   "outputs": [],
   "source": []
  },
  {
   "cell_type": "code",
   "execution_count": null,
   "metadata": {},
   "outputs": [],
   "source": []
  },
  {
   "cell_type": "code",
   "execution_count": null,
   "metadata": {},
   "outputs": [],
   "source": []
  },
  {
   "cell_type": "code",
   "execution_count": null,
   "metadata": {},
   "outputs": [],
   "source": []
  }
 ],
 "metadata": {
  "kernelspec": {
   "display_name": "Python 3",
   "language": "python",
   "name": "python3"
  },
  "language_info": {
   "codemirror_mode": {
    "name": "ipython",
    "version": 3
   },
   "file_extension": ".py",
   "mimetype": "text/x-python",
   "name": "python",
   "nbconvert_exporter": "python",
   "pygments_lexer": "ipython3",
   "version": "3.8.10"
  }
 },
 "nbformat": 4,
 "nbformat_minor": 4
}
