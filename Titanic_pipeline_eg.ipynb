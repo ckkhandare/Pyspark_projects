{
 "cells": [
  {
   "cell_type": "code",
   "execution_count": 1,
   "metadata": {},
   "outputs": [],
   "source": [
    "from pyspark import SparkContext, SparkConf, SQLContext\n",
    "from pyspark.ml import Pipeline\n",
    "from pyspark.ml.classification import LogisticRegression\n",
    "from pyspark.ml.clustering import KMeans\n",
    "from pyspark.ml.feature import VectorAssembler\n",
    "from pyspark.ml.stat import Correlation, Summarizer\n",
    "from pyspark.sql.functions import col, when, lit\n"
   ]
  },
  {
   "cell_type": "code",
   "execution_count": 2,
   "metadata": {},
   "outputs": [
    {
     "name": "stdout",
     "output_type": "stream",
     "text": [
      "PySparkShell\n"
     ]
    }
   ],
   "source": [
    "if sc:\n",
    "    print(sc.appName)\n",
    "else:\n",
    "    print('Could not initialise pyspark session')"
   ]
  },
  {
   "cell_type": "code",
   "execution_count": 3,
   "metadata": {},
   "outputs": [],
   "source": [
    "shipData = sqlContext.read.option('header', True) \\\n",
    "    .option('delimiter', ',') \\\n",
    "    .option('inferSchema', True) \\\n",
    "    .csv('file:///home/ckkhandare/spark-3.1.2-bin-hadoop3.2/datasets/train.csv')"
   ]
  },
  {
   "cell_type": "code",
   "execution_count": 4,
   "metadata": {},
   "outputs": [
    {
     "name": "stdout",
     "output_type": "stream",
     "text": [
      "root\n",
      " |-- PassengerId: integer (nullable = true)\n",
      " |-- Survived: integer (nullable = true)\n",
      " |-- Pclass: integer (nullable = true)\n",
      " |-- Name: string (nullable = true)\n",
      " |-- Sex: string (nullable = true)\n",
      " |-- Age: double (nullable = true)\n",
      " |-- SibSp: integer (nullable = true)\n",
      " |-- Parch: integer (nullable = true)\n",
      " |-- Ticket: string (nullable = true)\n",
      " |-- Fare: double (nullable = true)\n",
      " |-- Cabin: string (nullable = true)\n",
      " |-- Embarked: string (nullable = true)\n",
      "\n"
     ]
    }
   ],
   "source": [
    "shipData.printSchema()"
   ]
  },
  {
   "cell_type": "code",
   "execution_count": 5,
   "metadata": {},
   "outputs": [
    {
     "name": "stdout",
     "output_type": "stream",
     "text": [
      "+-----------+--------+------+--------------------+------+----+-----+-----+----------------+-------+-----+--------+\n",
      "|PassengerId|Survived|Pclass|                Name|   Sex| Age|SibSp|Parch|          Ticket|   Fare|Cabin|Embarked|\n",
      "+-----------+--------+------+--------------------+------+----+-----+-----+----------------+-------+-----+--------+\n",
      "|          1|       0|     3|Braund, Mr. Owen ...|  male|22.0|    1|    0|       A/5 21171|   7.25| null|       S|\n",
      "|          2|       1|     1|Cumings, Mrs. Joh...|female|38.0|    1|    0|        PC 17599|71.2833|  C85|       C|\n",
      "|          3|       1|     3|Heikkinen, Miss. ...|female|26.0|    0|    0|STON/O2. 3101282|  7.925| null|       S|\n",
      "|          4|       1|     1|Futrelle, Mrs. Ja...|female|35.0|    1|    0|          113803|   53.1| C123|       S|\n",
      "|          5|       0|     3|Allen, Mr. Willia...|  male|35.0|    0|    0|          373450|   8.05| null|       S|\n",
      "|          6|       0|     3|    Moran, Mr. James|  male|null|    0|    0|          330877| 8.4583| null|       Q|\n",
      "|          7|       0|     1|McCarthy, Mr. Tim...|  male|54.0|    0|    0|           17463|51.8625|  E46|       S|\n",
      "|          8|       0|     3|Palsson, Master. ...|  male| 2.0|    3|    1|          349909| 21.075| null|       S|\n",
      "|          9|       1|     3|Johnson, Mrs. Osc...|female|27.0|    0|    2|          347742|11.1333| null|       S|\n",
      "|         10|       1|     2|Nasser, Mrs. Nich...|female|14.0|    1|    0|          237736|30.0708| null|       C|\n",
      "|         11|       1|     3|Sandstrom, Miss. ...|female| 4.0|    1|    1|         PP 9549|   16.7|   G6|       S|\n",
      "|         12|       1|     1|Bonnell, Miss. El...|female|58.0|    0|    0|          113783|  26.55| C103|       S|\n",
      "|         13|       0|     3|Saundercock, Mr. ...|  male|20.0|    0|    0|       A/5. 2151|   8.05| null|       S|\n",
      "|         14|       0|     3|Andersson, Mr. An...|  male|39.0|    1|    5|          347082| 31.275| null|       S|\n",
      "|         15|       0|     3|Vestrom, Miss. Hu...|female|14.0|    0|    0|          350406| 7.8542| null|       S|\n",
      "|         16|       1|     2|Hewlett, Mrs. (Ma...|female|55.0|    0|    0|          248706|   16.0| null|       S|\n",
      "|         17|       0|     3|Rice, Master. Eugene|  male| 2.0|    4|    1|          382652| 29.125| null|       Q|\n",
      "|         18|       1|     2|Williams, Mr. Cha...|  male|null|    0|    0|          244373|   13.0| null|       S|\n",
      "|         19|       0|     3|Vander Planke, Mr...|female|31.0|    1|    0|          345763|   18.0| null|       S|\n",
      "|         20|       1|     3|Masselmani, Mrs. ...|female|null|    0|    0|            2649|  7.225| null|       C|\n",
      "+-----------+--------+------+--------------------+------+----+-----+-----+----------------+-------+-----+--------+\n",
      "only showing top 20 rows\n",
      "\n"
     ]
    }
   ],
   "source": [
    "shipData.show()"
   ]
  },
  {
   "cell_type": "code",
   "execution_count": 6,
   "metadata": {},
   "outputs": [],
   "source": [
    "shipData = shipData.drop('Pclass').drop('Name')"
   ]
  },
  {
   "cell_type": "code",
   "execution_count": 7,
   "metadata": {},
   "outputs": [
    {
     "name": "stdout",
     "output_type": "stream",
     "text": [
      "root\n",
      " |-- PassengerId: integer (nullable = true)\n",
      " |-- Survived: integer (nullable = true)\n",
      " |-- Sex: double (nullable = false)\n",
      " |-- Age: double (nullable = true)\n",
      " |-- SibSp: integer (nullable = true)\n",
      " |-- Parch: integer (nullable = true)\n",
      " |-- Ticket: string (nullable = true)\n",
      " |-- Fare: double (nullable = true)\n",
      " |-- Cabin: string (nullable = true)\n",
      " |-- Embarked: string (nullable = true)\n",
      "\n"
     ]
    }
   ],
   "source": [
    "shipData = shipData.withColumn('Sex', when(col('Sex') == 'male', 1.0).otherwise(0.0))\n",
    "shipData.printSchema()"
   ]
  },
  {
   "cell_type": "code",
   "execution_count": 8,
   "metadata": {},
   "outputs": [
    {
     "name": "stdout",
     "output_type": "stream",
     "text": [
      "+-----------+--------+---+----+-----+-----+----------------+-------+-----+--------+\n",
      "|PassengerId|Survived|Sex| Age|SibSp|Parch|          Ticket|   Fare|Cabin|Embarked|\n",
      "+-----------+--------+---+----+-----+-----+----------------+-------+-----+--------+\n",
      "|          1|       0|1.0|22.0|    1|    0|       A/5 21171|   7.25| null|       S|\n",
      "|          2|       1|0.0|38.0|    1|    0|        PC 17599|71.2833|  C85|       C|\n",
      "|          3|       1|0.0|26.0|    0|    0|STON/O2. 3101282|  7.925| null|       S|\n",
      "|          4|       1|0.0|35.0|    1|    0|          113803|   53.1| C123|       S|\n",
      "|          5|       0|1.0|35.0|    0|    0|          373450|   8.05| null|       S|\n",
      "|          6|       0|1.0|null|    0|    0|          330877| 8.4583| null|       Q|\n",
      "|          7|       0|1.0|54.0|    0|    0|           17463|51.8625|  E46|       S|\n",
      "|          8|       0|1.0| 2.0|    3|    1|          349909| 21.075| null|       S|\n",
      "|          9|       1|0.0|27.0|    0|    2|          347742|11.1333| null|       S|\n",
      "|         10|       1|0.0|14.0|    1|    0|          237736|30.0708| null|       C|\n",
      "|         11|       1|0.0| 4.0|    1|    1|         PP 9549|   16.7|   G6|       S|\n",
      "|         12|       1|0.0|58.0|    0|    0|          113783|  26.55| C103|       S|\n",
      "|         13|       0|1.0|20.0|    0|    0|       A/5. 2151|   8.05| null|       S|\n",
      "|         14|       0|1.0|39.0|    1|    5|          347082| 31.275| null|       S|\n",
      "|         15|       0|0.0|14.0|    0|    0|          350406| 7.8542| null|       S|\n",
      "|         16|       1|0.0|55.0|    0|    0|          248706|   16.0| null|       S|\n",
      "|         17|       0|1.0| 2.0|    4|    1|          382652| 29.125| null|       Q|\n",
      "|         18|       1|1.0|null|    0|    0|          244373|   13.0| null|       S|\n",
      "|         19|       0|0.0|31.0|    1|    0|          345763|   18.0| null|       S|\n",
      "|         20|       1|0.0|null|    0|    0|            2649|  7.225| null|       C|\n",
      "+-----------+--------+---+----+-----+-----+----------------+-------+-----+--------+\n",
      "only showing top 20 rows\n",
      "\n"
     ]
    }
   ],
   "source": [
    "shipData.show()"
   ]
  },
  {
   "cell_type": "code",
   "execution_count": 9,
   "metadata": {},
   "outputs": [
    {
     "name": "stdout",
     "output_type": "stream",
     "text": [
      "root\n",
      " |-- PassengerId: integer (nullable = true)\n",
      " |-- Survived: integer (nullable = true)\n",
      " |-- Sex: double (nullable = false)\n",
      " |-- Age: double (nullable = true)\n",
      " |-- SibSp: integer (nullable = true)\n",
      " |-- Parch: integer (nullable = true)\n",
      " |-- Ticket: string (nullable = true)\n",
      " |-- Fare: double (nullable = true)\n",
      " |-- Cabin: string (nullable = true)\n",
      " |-- Embarked: string (nullable = true)\n",
      " |-- features: vector (nullable = true)\n",
      "\n"
     ]
    }
   ],
   "source": [
    "assembler = VectorAssembler(inputCols=['PassengerId', 'Survived', 'Sex', 'Age', 'SibSp', 'Parch'], outputCol='features')\\\n",
    "    .setHandleInvalid('skip')\n",
    "vectorDF = assembler.transform(shipData)\n",
    "vectorDF.printSchema()"
   ]
  },
  {
   "cell_type": "code",
   "execution_count": 10,
   "metadata": {},
   "outputs": [
    {
     "name": "stdout",
     "output_type": "stream",
     "text": [
      "+-----------+--------+---+----+-----+-----+----------------+-------+-----+--------+--------------------+\n",
      "|PassengerId|Survived|Sex| Age|SibSp|Parch|          Ticket|   Fare|Cabin|Embarked|            features|\n",
      "+-----------+--------+---+----+-----+-----+----------------+-------+-----+--------+--------------------+\n",
      "|          1|       0|1.0|22.0|    1|    0|       A/5 21171|   7.25| null|       S|[1.0,0.0,1.0,22.0...|\n",
      "|          2|       1|0.0|38.0|    1|    0|        PC 17599|71.2833|  C85|       C|[2.0,1.0,0.0,38.0...|\n",
      "|          3|       1|0.0|26.0|    0|    0|STON/O2. 3101282|  7.925| null|       S|[3.0,1.0,0.0,26.0...|\n",
      "|          4|       1|0.0|35.0|    1|    0|          113803|   53.1| C123|       S|[4.0,1.0,0.0,35.0...|\n",
      "|          5|       0|1.0|35.0|    0|    0|          373450|   8.05| null|       S|[5.0,0.0,1.0,35.0...|\n",
      "|          7|       0|1.0|54.0|    0|    0|           17463|51.8625|  E46|       S|[7.0,0.0,1.0,54.0...|\n",
      "|          8|       0|1.0| 2.0|    3|    1|          349909| 21.075| null|       S|[8.0,0.0,1.0,2.0,...|\n",
      "|          9|       1|0.0|27.0|    0|    2|          347742|11.1333| null|       S|[9.0,1.0,0.0,27.0...|\n",
      "|         10|       1|0.0|14.0|    1|    0|          237736|30.0708| null|       C|[10.0,1.0,0.0,14....|\n",
      "|         11|       1|0.0| 4.0|    1|    1|         PP 9549|   16.7|   G6|       S|[11.0,1.0,0.0,4.0...|\n",
      "|         12|       1|0.0|58.0|    0|    0|          113783|  26.55| C103|       S|[12.0,1.0,0.0,58....|\n",
      "|         13|       0|1.0|20.0|    0|    0|       A/5. 2151|   8.05| null|       S|[13.0,0.0,1.0,20....|\n",
      "|         14|       0|1.0|39.0|    1|    5|          347082| 31.275| null|       S|[14.0,0.0,1.0,39....|\n",
      "|         15|       0|0.0|14.0|    0|    0|          350406| 7.8542| null|       S|(6,[0,3],[15.0,14...|\n",
      "|         16|       1|0.0|55.0|    0|    0|          248706|   16.0| null|       S|[16.0,1.0,0.0,55....|\n",
      "|         17|       0|1.0| 2.0|    4|    1|          382652| 29.125| null|       Q|[17.0,0.0,1.0,2.0...|\n",
      "|         19|       0|0.0|31.0|    1|    0|          345763|   18.0| null|       S|[19.0,0.0,0.0,31....|\n",
      "|         21|       0|1.0|35.0|    0|    0|          239865|   26.0| null|       S|[21.0,0.0,1.0,35....|\n",
      "|         22|       1|1.0|34.0|    0|    0|          248698|   13.0|  D56|       S|[22.0,1.0,1.0,34....|\n",
      "|         23|       1|0.0|15.0|    0|    0|          330923| 8.0292| null|       Q|[23.0,1.0,0.0,15....|\n",
      "+-----------+--------+---+----+-----+-----+----------------+-------+-----+--------+--------------------+\n",
      "only showing top 20 rows\n",
      "\n"
     ]
    }
   ],
   "source": [
    "vectorDF.show()"
   ]
  },
  {
   "cell_type": "code",
   "execution_count": 11,
   "metadata": {},
   "outputs": [
    {
     "name": "stdout",
     "output_type": "stream",
     "text": [
      "root\n",
      " |-- pearson(features): matrix (nullable = false)\n",
      "\n"
     ]
    }
   ],
   "source": [
    "df1 = Correlation.corr(vectorDF, \"features\")\n",
    "df1.printSchema()"
   ]
  },
  {
   "cell_type": "code",
   "execution_count": 12,
   "metadata": {},
   "outputs": [],
   "source": [
    "r1 = df1.head()"
   ]
  },
  {
   "cell_type": "code",
   "execution_count": 13,
   "metadata": {},
   "outputs": [
    {
     "name": "stdout",
     "output_type": "stream",
     "text": [
      "Pearson correlation matrix:\n",
      "DenseMatrix([[ 1.        ,  0.02934016,  0.02457511,  0.0368472 , -0.08239772,\n",
      "              -0.01161741],\n",
      "             [ 0.02934016,  1.        , -0.53882559, -0.07722109, -0.01735836,\n",
      "               0.09331701],\n",
      "             [ 0.02457511, -0.53882559,  1.        ,  0.09325358, -0.10394968,\n",
      "              -0.24697204],\n",
      "             [ 0.0368472 , -0.07722109,  0.09325358,  1.        , -0.30824676,\n",
      "              -0.18911926],\n",
      "             [-0.08239772, -0.01735836, -0.10394968, -0.30824676,  1.        ,\n",
      "               0.38381986],\n",
      "             [-0.01161741,  0.09331701, -0.24697204, -0.18911926,  0.38381986,\n",
      "               1.        ]])\n"
     ]
    }
   ],
   "source": [
    "print(\"Pearson correlation matrix:\\n\" + str(r1[0]))"
   ]
  },
  {
   "cell_type": "code",
   "execution_count": 14,
   "metadata": {},
   "outputs": [
    {
     "name": "stdout",
     "output_type": "stream",
     "text": [
      "root\n",
      " |-- spearman(features): matrix (nullable = false)\n",
      "\n"
     ]
    }
   ],
   "source": [
    "df2 = Correlation.corr(vectorDF, \"features\", \"spearman\")\n",
    "df2.printSchema()"
   ]
  },
  {
   "cell_type": "code",
   "execution_count": 15,
   "metadata": {},
   "outputs": [
    {
     "name": "stdout",
     "output_type": "stream",
     "text": [
      "Spearman correlation matrix:\n",
      "DenseMatrix([[ 1.        ,  0.02971975,  0.0240503 ,  0.04100992, -0.0659825 ,\n",
      "              -0.00540992],\n",
      "             [ 0.02971975,  1.        , -0.53882559, -0.0525653 ,  0.07324381,\n",
      "               0.1564441 ],\n",
      "             [ 0.0240503 , -0.53882559,  1.        ,  0.08333033, -0.16488745,\n",
      "              -0.25469659],\n",
      "             [ 0.04100992, -0.0525653 ,  0.08333033,  1.        , -0.18206126,\n",
      "              -0.25421212],\n",
      "             [-0.0659825 ,  0.07324381, -0.16488745, -0.18206126,  1.        ,\n",
      "               0.42695488],\n",
      "             [-0.00540992,  0.1564441 , -0.25469659, -0.25421212,  0.42695488,\n",
      "               1.        ]])\n"
     ]
    }
   ],
   "source": [
    "r2 = df2.head()\n",
    "print(\"Spearman correlation matrix:\\n\" + str(r2[0]))\n"
   ]
  },
  {
   "cell_type": "code",
   "execution_count": 16,
   "metadata": {},
   "outputs": [
    {
     "name": "stdout",
     "output_type": "stream",
     "text": [
      "root\n",
      " |-- aggregate_metrics(features, 1.0): struct (nullable = false)\n",
      " |    |-- mean: vector (nullable = false)\n",
      " |    |-- count: long (nullable = false)\n",
      " |    |-- variance: vector (nullable = false)\n",
      " |    |-- max: vector (nullable = false)\n",
      " |    |-- min: vector (nullable = false)\n",
      "\n"
     ]
    }
   ],
   "source": [
    "summarizer = Summarizer.metrics(\"mean\", \"count\", \"variance\", \"max\", \"min\")\n",
    "df3 = vectorDF.select(summarizer.summary(vectorDF.features))\n",
    "df3.printSchema()"
   ]
  },
  {
   "cell_type": "code",
   "execution_count": 17,
   "metadata": {},
   "outputs": [
    {
     "name": "stdout",
     "output_type": "stream",
     "text": [
      "+--------------------------------+\n",
      "|aggregate_metrics(features, 1.0)|\n",
      "+--------------------------------+\n",
      "|            {[448.58263305322...|\n",
      "+--------------------------------+\n",
      "\n"
     ]
    }
   ],
   "source": [
    "df3.show()"
   ]
  },
  {
   "cell_type": "code",
   "execution_count": 18,
   "metadata": {},
   "outputs": [],
   "source": [
    "kMeans = KMeans().setK(2).setSeed(1)\n",
    "kMeansModel = kMeans.fit(vectorDF)"
   ]
  },
  {
   "cell_type": "code",
   "execution_count": 19,
   "metadata": {},
   "outputs": [],
   "source": [
    "shipTest = sqlContext.read.option('header', True) \\\n",
    "    .option('delimiter', ',') \\\n",
    "    .option('inferSchema', True) \\\n",
    "    .csv('file:///home/ckkhandare/spark-3.1.2-bin-hadoop3.2/datasets/test.csv')\\\n",
    "    .drop('Pclass').drop('Name')\\\n",
    "    .withColumn('Sex', when(col('Sex') == 'male', 1.0).otherwise(0.0))\\\n",
    "    .withColumn('Survived', lit(1))"
   ]
  },
  {
   "cell_type": "code",
   "execution_count": 20,
   "metadata": {},
   "outputs": [
    {
     "name": "stdout",
     "output_type": "stream",
     "text": [
      "root\n",
      " |-- PassengerId: integer (nullable = true)\n",
      " |-- Sex: double (nullable = false)\n",
      " |-- Age: double (nullable = true)\n",
      " |-- SibSp: integer (nullable = true)\n",
      " |-- Parch: integer (nullable = true)\n",
      " |-- Ticket: string (nullable = true)\n",
      " |-- Fare: double (nullable = true)\n",
      " |-- Cabin: string (nullable = true)\n",
      " |-- Embarked: string (nullable = true)\n",
      " |-- Survived: integer (nullable = false)\n",
      " |-- features: vector (nullable = true)\n",
      "\n"
     ]
    }
   ],
   "source": [
    "vectorDFTest = assembler.transform(shipTest)\n",
    "vectorDFTest.printSchema()"
   ]
  },
  {
   "cell_type": "code",
   "execution_count": 21,
   "metadata": {},
   "outputs": [],
   "source": [
    "predictions = kMeansModel.transform(vectorDFTest)\n",
    "modelSummary = kMeansModel.summary"
   ]
  },
  {
   "cell_type": "code",
   "execution_count": 22,
   "metadata": {},
   "outputs": [
    {
     "name": "stdout",
     "output_type": "stream",
     "text": [
      "root\n",
      " |-- PassengerId: integer (nullable = true)\n",
      " |-- Sex: double (nullable = false)\n",
      " |-- Age: double (nullable = true)\n",
      " |-- SibSp: integer (nullable = true)\n",
      " |-- Parch: integer (nullable = true)\n",
      " |-- Ticket: string (nullable = true)\n",
      " |-- Fare: double (nullable = true)\n",
      " |-- Cabin: string (nullable = true)\n",
      " |-- Embarked: string (nullable = true)\n",
      " |-- Survived: integer (nullable = false)\n",
      " |-- features: vector (nullable = true)\n",
      " |-- prediction: integer (nullable = false)\n",
      "\n",
      "Model predictionCol = prediction\n",
      "+-----------+---+----+-----+-----+----------------+-------+-----+--------+--------+--------------------+----------+\n",
      "|PassengerId|Sex| Age|SibSp|Parch|          Ticket|   Fare|Cabin|Embarked|Survived|            features|prediction|\n",
      "+-----------+---+----+-----+-----+----------------+-------+-----+--------+--------+--------------------+----------+\n",
      "|        892|1.0|34.5|    0|    0|          330911| 7.8292| null|       Q|       1|[892.0,1.0,1.0,34...|         1|\n",
      "|        893|0.0|47.0|    1|    0|          363272|    7.0| null|       S|       1|[893.0,1.0,0.0,47...|         1|\n",
      "|        894|1.0|62.0|    0|    0|          240276| 9.6875| null|       Q|       1|[894.0,1.0,1.0,62...|         1|\n",
      "|        895|1.0|27.0|    0|    0|          315154| 8.6625| null|       S|       1|[895.0,1.0,1.0,27...|         1|\n",
      "|        896|0.0|22.0|    1|    1|         3101298|12.2875| null|       S|       1|[896.0,1.0,0.0,22...|         1|\n",
      "|        897|1.0|14.0|    0|    0|            7538|  9.225| null|       S|       1|[897.0,1.0,1.0,14...|         1|\n",
      "|        898|0.0|30.0|    0|    0|          330972| 7.6292| null|       Q|       1|[898.0,1.0,0.0,30...|         1|\n",
      "|        899|1.0|26.0|    1|    1|          248738|   29.0| null|       S|       1|[899.0,1.0,1.0,26...|         1|\n",
      "|        900|0.0|18.0|    0|    0|            2657| 7.2292| null|       C|       1|[900.0,1.0,0.0,18...|         1|\n",
      "|        901|1.0|21.0|    2|    0|       A/4 48871|  24.15| null|       S|       1|[901.0,1.0,1.0,21...|         1|\n",
      "|        903|1.0|46.0|    0|    0|             694|   26.0| null|       S|       1|[903.0,1.0,1.0,46...|         1|\n",
      "|        904|0.0|23.0|    1|    0|           21228|82.2667|  B45|       S|       1|[904.0,1.0,0.0,23...|         1|\n",
      "|        905|1.0|63.0|    1|    0|           24065|   26.0| null|       S|       1|[905.0,1.0,1.0,63...|         1|\n",
      "|        906|0.0|47.0|    1|    0|     W.E.P. 5734| 61.175|  E31|       S|       1|[906.0,1.0,0.0,47...|         1|\n",
      "|        907|0.0|24.0|    1|    0|   SC/PARIS 2167|27.7208| null|       C|       1|[907.0,1.0,0.0,24...|         1|\n",
      "|        908|1.0|35.0|    0|    0|          233734|  12.35| null|       Q|       1|[908.0,1.0,1.0,35...|         1|\n",
      "|        909|1.0|21.0|    0|    0|            2692|  7.225| null|       C|       1|[909.0,1.0,1.0,21...|         1|\n",
      "|        910|0.0|27.0|    1|    0|STON/O2. 3101270|  7.925| null|       S|       1|[910.0,1.0,0.0,27...|         1|\n",
      "|        911|0.0|45.0|    0|    0|            2696|  7.225| null|       C|       1|[911.0,1.0,0.0,45...|         1|\n",
      "|        912|1.0|55.0|    1|    0|        PC 17603|   59.4| null|       C|       1|[912.0,1.0,1.0,55...|         1|\n",
      "+-----------+---+----+-----+-----+----------------+-------+-----+--------+--------+--------------------+----------+\n",
      "only showing top 20 rows\n",
      "\n"
     ]
    }
   ],
   "source": [
    "predictions.printSchema()\n",
    "print(f'Model predictionCol = {modelSummary.predictionCol}')\n",
    "predictions.show()"
   ]
  },
  {
   "cell_type": "code",
   "execution_count": 23,
   "metadata": {},
   "outputs": [
    {
     "name": "stdout",
     "output_type": "stream",
     "text": [
      "Model cluster size = [363, 351]\n",
      "Model training Cost = 11838192.555020407\n"
     ]
    }
   ],
   "source": [
    "print(f'Model cluster size = {modelSummary.clusterSizes}')\n",
    "print(f'Model training Cost = {modelSummary.trainingCost}')"
   ]
  },
  {
   "cell_type": "code",
   "execution_count": 24,
   "metadata": {},
   "outputs": [
    {
     "name": "stdout",
     "output_type": "stream",
     "text": [
      "root\n",
      " |-- PassengerId: integer (nullable = true)\n",
      " |-- Survived: integer (nullable = true)\n",
      " |-- Sex: double (nullable = false)\n",
      " |-- Age: double (nullable = true)\n",
      " |-- SibSp: integer (nullable = true)\n",
      " |-- Parch: integer (nullable = true)\n",
      " |-- Ticket: string (nullable = true)\n",
      " |-- Fare: double (nullable = true)\n",
      " |-- Cabin: string (nullable = true)\n",
      " |-- Embarked: string (nullable = true)\n",
      " |-- features: vector (nullable = true)\n",
      "\n"
     ]
    }
   ],
   "source": [
    "vectorDF = vectorDF.withColumn('Survived', shipData.Survived)\n",
    "vectorDF.printSchema()"
   ]
  },
  {
   "cell_type": "code",
   "execution_count": 25,
   "metadata": {},
   "outputs": [
    {
     "name": "stdout",
     "output_type": "stream",
     "text": [
      "Prediction schema from Logistic Regression\n",
      "root\n",
      " |-- PassengerId: integer (nullable = true)\n",
      " |-- Sex: double (nullable = false)\n",
      " |-- Age: double (nullable = true)\n",
      " |-- SibSp: integer (nullable = true)\n",
      " |-- Parch: integer (nullable = true)\n",
      " |-- Ticket: string (nullable = true)\n",
      " |-- Fare: double (nullable = true)\n",
      " |-- Cabin: string (nullable = true)\n",
      " |-- Embarked: string (nullable = true)\n",
      " |-- Survived: integer (nullable = false)\n",
      " |-- features: vector (nullable = true)\n",
      " |-- rawPrediction: vector (nullable = true)\n",
      " |-- probability: vector (nullable = true)\n",
      " |-- prediction: double (nullable = false)\n",
      "\n"
     ]
    }
   ],
   "source": [
    "lr = LogisticRegression(labelCol='Survived')\n",
    "pipeline = Pipeline(stages=[assembler, lr])\n",
    "pipelineModel = pipeline.fit(shipData)\n",
    "pipelinePrediction = pipelineModel.transform(shipTest)\n",
    "print(f'Prediction schema from Logistic Regression')\n",
    "pipelinePrediction.printSchema()"
   ]
  },
  {
   "cell_type": "code",
   "execution_count": 26,
   "metadata": {},
   "outputs": [
    {
     "name": "stdout",
     "output_type": "stream",
     "text": [
      "+-----------+---+----+-----+-----+----------------+-------+-----+--------+--------+--------------------+--------------------+--------------------+----------+\n",
      "|PassengerId|Sex| Age|SibSp|Parch|          Ticket|   Fare|Cabin|Embarked|Survived|            features|       rawPrediction|         probability|prediction|\n",
      "+-----------+---+----+-----+-----+----------------+-------+-----+--------+--------+--------------------+--------------------+--------------------+----------+\n",
      "|        892|1.0|34.5|    0|    0|          330911| 7.8292| null|       Q|       1|[892.0,1.0,1.0,34...|[-17.834524704029...|[1.79706723448756...|       1.0|\n",
      "|        893|0.0|47.0|    1|    0|          363272|    7.0| null|       S|       1|[893.0,1.0,0.0,47...|[-19.049483301884...|[5.33229927976653...|       1.0|\n",
      "|        894|1.0|62.0|    0|    0|          240276| 9.6875| null|       Q|       1|[894.0,1.0,1.0,62...|[-15.553819219383...|[1.75817485321158...|       1.0|\n",
      "|        895|1.0|27.0|    0|    0|          315154| 8.6625| null|       S|       1|[895.0,1.0,1.0,27...|[-18.441612017159...|[9.79286255870878...|       1.0|\n",
      "|        896|0.0|22.0|    1|    1|         3101298|12.2875| null|       S|       1|[896.0,1.0,0.0,22...|[-20.096544486599...|[1.87146462919516...|       1.0|\n",
      "|        897|1.0|14.0|    0|    0|            7538|  9.225| null|       S|       1|[897.0,1.0,1.0,14...|[-19.507365904288...|[3.37332845581150...|       1.0|\n",
      "|        898|0.0|30.0|    0|    0|          330972| 7.6292| null|       Q|       1|[898.0,1.0,0.0,30...|[-21.486920325811...|[4.65960464152216...|       1.0|\n",
      "|        899|1.0|26.0|    1|    1|          248738|   29.0| null|       S|       1|[899.0,1.0,1.0,26...|[-16.447581022011...|[7.19293755874715...|       1.0|\n",
      "|        900|0.0|18.0|    0|    0|            2657| 7.2292| null|       C|       1|[900.0,1.0,0.0,18...|[-22.470045586476...|[1.74334441030076...|       1.0|\n",
      "|        901|1.0|21.0|    2|    0|       A/4 48871|  24.15| null|       S|       1|[901.0,1.0,1.0,21...|[-16.804536972669...|[5.03364171394132...|       1.0|\n",
      "|        903|1.0|46.0|    0|    0|             694|   26.0| null|       S|       1|[903.0,1.0,1.0,46...|[-16.837995086762...|[4.86801184572945...|       1.0|\n",
      "|        904|0.0|23.0|    1|    0|           21228|82.2667|  B45|       S|       1|[904.0,1.0,0.0,23...|[-20.986269924074...|[7.68738754780152...|       1.0|\n",
      "|        905|1.0|63.0|    1|    0|           24065|   26.0| null|       S|       1|[905.0,1.0,1.0,63...|[-14.371094163694...|[5.73736997904862...|       1.0|\n",
      "|        906|0.0|47.0|    1|    0|     W.E.P. 5734| 61.175|  E31|       S|       1|[906.0,1.0,0.0,47...|[-18.994764632051...|[5.63220602462011...|       1.0|\n",
      "|        907|0.0|24.0|    1|    0|   SC/PARIS 2167|27.7208| null|       C|       1|[907.0,1.0,0.0,24...|[-20.891013912264...|[8.45566826293275...|       1.0|\n",
      "|        908|1.0|35.0|    0|    0|          233734|  12.35| null|       Q|       1|[908.0,1.0,1.0,35...|[-17.725864335618...|[2.00334120328668...|       1.0|\n",
      "|        909|1.0|21.0|    0|    0|            2692|  7.225| null|       C|       1|[909.0,1.0,1.0,21...|[-18.878455977659...|[6.32689663534983...|       1.0|\n",
      "|        910|0.0|27.0|    1|    0|STON/O2. 3101270|  7.925| null|       S|       1|[910.0,1.0,0.0,27...|[-20.630500647528...|[1.09720406868834...|       1.0|\n",
      "|        911|0.0|45.0|    0|    0|            2696|  7.225| null|       C|       1|[911.0,1.0,0.0,45...|[-20.192772259024...|[1.69977106818716...|       1.0|\n",
      "|        912|1.0|55.0|    1|    0|        PC 17603|   59.4| null|       C|       1|[912.0,1.0,1.0,55...|[-15.002659276262...|[3.05089829316625...|       1.0|\n",
      "+-----------+---+----+-----+-----+----------------+-------+-----+--------+--------+--------------------+--------------------+--------------------+----------+\n",
      "only showing top 20 rows\n",
      "\n"
     ]
    }
   ],
   "source": [
    "pipelinePrediction.show()"
   ]
  },
  {
   "cell_type": "code",
   "execution_count": 27,
   "metadata": {},
   "outputs": [
    {
     "name": "stdout",
     "output_type": "stream",
     "text": [
      "root\n",
      " |-- PassengerId: integer (nullable = true)\n",
      " |-- Sex: double (nullable = false)\n",
      " |-- Age: double (nullable = true)\n",
      " |-- SibSp: integer (nullable = true)\n",
      " |-- Parch: integer (nullable = true)\n",
      " |-- Ticket: string (nullable = true)\n",
      " |-- Fare: double (nullable = true)\n",
      " |-- Cabin: string (nullable = true)\n",
      " |-- Embarked: string (nullable = true)\n",
      " |-- Survived: integer (nullable = false)\n",
      " |-- features: vector (nullable = true)\n",
      " |-- prediction: integer (nullable = false)\n",
      "\n"
     ]
    }
   ],
   "source": [
    "pipeline = Pipeline(stages=[assembler, kMeansModel])\n",
    "pipelineModel = pipeline.fit(shipData)\n",
    "pipelinePrediction = pipelineModel.transform(shipTest)\n",
    "\n",
    "pipelinePrediction.printSchema()"
   ]
  },
  {
   "cell_type": "code",
   "execution_count": null,
   "metadata": {},
   "outputs": [],
   "source": []
  },
  {
   "cell_type": "code",
   "execution_count": null,
   "metadata": {},
   "outputs": [],
   "source": []
  },
  {
   "cell_type": "code",
   "execution_count": null,
   "metadata": {},
   "outputs": [],
   "source": []
  },
  {
   "cell_type": "code",
   "execution_count": null,
   "metadata": {},
   "outputs": [],
   "source": []
  },
  {
   "cell_type": "code",
   "execution_count": null,
   "metadata": {},
   "outputs": [],
   "source": []
  }
 ],
 "metadata": {
  "kernelspec": {
   "display_name": "Python 3",
   "language": "python",
   "name": "python3"
  },
  "language_info": {
   "codemirror_mode": {
    "name": "ipython",
    "version": 3
   },
   "file_extension": ".py",
   "mimetype": "text/x-python",
   "name": "python",
   "nbconvert_exporter": "python",
   "pygments_lexer": "ipython3",
   "version": "3.8.10"
  }
 },
 "nbformat": 4,
 "nbformat_minor": 4
}
